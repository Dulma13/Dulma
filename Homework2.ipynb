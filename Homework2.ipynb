{
 "cells": [
  {
   "cell_type": "code",
   "execution_count": 47,
   "id": "f23a7d59-44b6-4593-8f77-1f7bee2b635f",
   "metadata": {},
   "outputs": [],
   "source": [
    "word = 'test'"
   ]
  },
  {
   "cell_type": "code",
   "execution_count": 49,
   "id": "7bc1a179-a5c6-4caf-80de-78881be9e410",
   "metadata": {},
   "outputs": [
    {
     "name": "stdout",
     "output_type": "stream",
     "text": [
      "es\n"
     ]
    }
   ],
   "source": [
    "#ДЗ 2. Задание 1\n",
    "#Сначала проверяем длину слова на четность/нечетность\n",
    "#Если количество букв четное, то нужно выдать 2 средние буквы по индексу, если нечетное, то выдаем только одну букву по индексу\n",
    "if len(word)%2==0:\n",
    "    print (word[len(word)//2-1:len(word)//2+1])\n",
    "else:\n",
    "    print (word[len(word)//2])"
   ]
  },
  {
   "cell_type": "code",
   "execution_count": null,
   "id": "b7013be9-d6f5-4696-beee-9d5db0e619f7",
   "metadata": {},
   "outputs": [],
   "source": []
  }
 ],
 "metadata": {
  "kernelspec": {
   "display_name": "Python [conda env:base] *",
   "language": "python",
   "name": "conda-base-py"
  },
  "language_info": {
   "codemirror_mode": {
    "name": "ipython",
    "version": 3
   },
   "file_extension": ".py",
   "mimetype": "text/x-python",
   "name": "python",
   "nbconvert_exporter": "python",
   "pygments_lexer": "ipython3",
   "version": "3.12.7"
  }
 },
 "nbformat": 4,
 "nbformat_minor": 5
}
