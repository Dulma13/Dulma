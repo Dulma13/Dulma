{
 "cells": [
  {
   "cell_type": "code",
   "execution_count": 47,
   "id": "f23a7d59-44b6-4593-8f77-1f7bee2b635f",
   "metadata": {},
   "outputs": [],
   "source": [
    "word = 'test'"
   ]
  },
  {
   "cell_type": "code",
   "execution_count": 49,
   "id": "7bc1a179-a5c6-4caf-80de-78881be9e410",
   "metadata": {},
   "outputs": [
    {
     "name": "stdout",
     "output_type": "stream",
     "text": [
      "es\n"
     ]
    }
   ],
   "source": [
    "#ДЗ 2. Задание 1\n",
    "#Сначала проверяем длину слова на четность/нечетность\n",
    "#Если количество букв четное, то нужно выдать 2 средние буквы по индексу, если нечетное, то выдаем только одну букву по индексу\n",
    "if len(word)%2==0:\n",
    "    print (word[len(word)//2-1:len(word)//2+1])\n",
    "else:\n",
    "    print (word[len(word)//2])"
   ]
  },
  {
   "cell_type": "code",
   "execution_count": 172,
   "id": "b7013be9-d6f5-4696-beee-9d5db0e619f7",
   "metadata": {},
   "outputs": [],
   "source": [
    "boys = ['Peter', 'Alex', 'John', 'Arthur', 'Andrew']\n",
    "girls = ['Kate', 'Liza', 'Kira', 'Emma', 'Trisha']"
   ]
  },
  {
   "cell_type": "code",
   "execution_count": 226,
   "id": "49852bf2-5fd7-409d-8cd5-fbc425ab792a",
   "metadata": {},
   "outputs": [
    {
     "name": "stdout",
     "output_type": "stream",
     "text": [
      "Идеальные пары:\n",
      "Alex и Emma\n",
      "Andrew и Kate\n",
      "Arthur и Kira\n",
      "John и Liza\n",
      "Peter и Trisha\n"
     ]
    }
   ],
   "source": [
    "#ДЗ 2. Задание 2\n",
    "# Нужно отсортировать имена по алфавиту и узнать индексы каждого из списков и склеить два списка\n",
    "# Нужно задать условие, что если количество в двух списках отличается, то никого не знакомим, если кто-то может остаться без пары.\n",
    "\n",
    "\n",
    "if (len(boys) != len(girls)):\n",
    "    print ('Внимание, кто-то может остаться без пары!')\n",
    "else:\n",
    "    new_boys=sorted(boys)\n",
    "    new_girls=sorted(girls)\n",
    "print ('Идеальные пары:')\n",
    "i=0\n",
    "while i < len(new_boys):\n",
    "    print (new_boys[i], 'и' , new_girls[i])\n",
    "    i = i+1"
   ]
  }
 ],
 "metadata": {
  "kernelspec": {
   "display_name": "Python [conda env:base] *",
   "language": "python",
   "name": "conda-base-py"
  },
  "language_info": {
   "codemirror_mode": {
    "name": "ipython",
    "version": 3
   },
   "file_extension": ".py",
   "mimetype": "text/x-python",
   "name": "python",
   "nbconvert_exporter": "python",
   "pygments_lexer": "ipython3",
   "version": "3.12.7"
  }
 },
 "nbformat": 4,
 "nbformat_minor": 5
}
