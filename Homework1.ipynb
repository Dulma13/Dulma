{
 "cells": [
  {
   "cell_type": "code",
   "execution_count": 43,
   "id": "bd0c31ee-e0a8-490a-b620-7fdae04dce57",
   "metadata": {},
   "outputs": [],
   "source": [
    "year = 2022"
   ]
  },
  {
   "cell_type": "code",
   "execution_count": 45,
   "id": "fd4b3f46-ce21-43f1-bdd8-80b691d5d9e6",
   "metadata": {},
   "outputs": [
    {
     "name": "stdout",
     "output_type": "stream",
     "text": [
      "Результат: Обычный год\n"
     ]
    }
   ],
   "source": [
    "#Задание 1\n",
    "#Год является високосным, если он делится на 4 или 400, но не делится на 100, поэтому условия следующие\n",
    "if year % 4 == 0 or year % 400 == 0 and year % 100 != 0:\n",
    "    print ('Результат: Високосный год')\n",
    "else:\n",
    "    print ('Результат: Обычный год')"
   ]
  },
  {
   "cell_type": "code",
   "execution_count": 119,
   "id": "ef084146-f48e-4479-8442-93ce677974bc",
   "metadata": {},
   "outputs": [],
   "source": [
    "number=123666"
   ]
  },
  {
   "cell_type": "code",
   "execution_count": 121,
   "id": "d459289f-cca3-4246-9f10-cdb033821362",
   "metadata": {},
   "outputs": [
    {
     "name": "stdout",
     "output_type": "stream",
     "text": [
      "Результат: Несчастливый билет\n"
     ]
    }
   ],
   "source": [
    "# Задание 2\n",
    "#Билет считается счастливым, если сумма первых трёх цифр совпадает с суммой последних трёх цифр номера.\n",
    "#Так как удобнее использовать индекс, то преобразуем number в string\n",
    "# Для получения суммы преобразуем в список из цифр и проверяем условие счастливости билета\n",
    "biletik = str(number)\n",
    "nomer = [int(n) for n in biletik]\n",
    "if sum(nomer[:3]) == sum(nomer[-3:]):\n",
    "    print ('Результат: Счастливый билет')\n",
    "else:\n",
    "    print ('Результат: Несчастливый билет') "
   ]
  },
  {
   "cell_type": "code",
   "execution_count": null,
   "id": "1c10dd2c-11ed-400e-9a93-a60f0d70b7b2",
   "metadata": {},
   "outputs": [],
   "source": []
  }
 ],
 "metadata": {
  "kernelspec": {
   "display_name": "Python [conda env:base] *",
   "language": "python",
   "name": "conda-base-py"
  },
  "language_info": {
   "codemirror_mode": {
    "name": "ipython",
    "version": 3
   },
   "file_extension": ".py",
   "mimetype": "text/x-python",
   "name": "python",
   "nbconvert_exporter": "python",
   "pygments_lexer": "ipython3",
   "version": "3.12.7"
  }
 },
 "nbformat": 4,
 "nbformat_minor": 5
}
