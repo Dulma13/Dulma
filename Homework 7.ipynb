{
 "cells": [
  {
   "cell_type": "markdown",
   "id": "822be781-33f9-4c28-ba8a-a4c0aa78cab0",
   "metadata": {},
   "source": [
    "#Homework 7\n",
    "#Задание 1\n",
    "#Печатные газеты использовали свой формат дат для каждого выпуска. Для каждой газеты из списка напишите формат указанной даты для перевода в объект #datetime:\n",
    "#The Moscow Times — Wednesday, October 2, 2002    #1\n",
    "#The Guardian — Friday, 11.10.13                  #2\n",
    "#Daily News — Thursday, 18 August 1977            #3\n",
    "\n",
    "#%A-полное название дня недели\n",
    "%B - полное название месяца\n",
    "%d- номер дня месяца\n",
    "%Y-полный номер года\n",
    "%m-номер месяца\n",
    "%y-номер года без указания столетия\n"
   ]
  },
  {
   "cell_type": "code",
   "execution_count": 17,
   "id": "f4750e8e-d95a-4650-a062-4fb518d09b7b",
   "metadata": {},
   "outputs": [
    {
     "data": {
      "text/plain": [
       "datetime.datetime(2002, 10, 2, 0, 0)"
      ]
     },
     "execution_count": 17,
     "metadata": {},
     "output_type": "execute_result"
    }
   ],
   "source": [
    "from datetime import datetime\n",
    "#1\n",
    "datetime.strptime('Wednesday, October 2, 2002', '%A, %B %d, %Y')"
   ]
  },
  {
   "cell_type": "code",
   "execution_count": 19,
   "id": "fb002767-2e04-4015-82c8-46b4814b34be",
   "metadata": {},
   "outputs": [
    {
     "data": {
      "text/plain": [
       "datetime.datetime(2013, 10, 11, 0, 0)"
      ]
     },
     "execution_count": 19,
     "metadata": {},
     "output_type": "execute_result"
    }
   ],
   "source": [
    "#2\n",
    "datetime.strptime('Friday, 11.10.13', '%A, %d.%m.%y')"
   ]
  },
  {
   "cell_type": "code",
   "execution_count": 21,
   "id": "511858ac-aaad-4c50-b799-90974bce56c8",
   "metadata": {},
   "outputs": [
    {
     "data": {
      "text/plain": [
       "datetime.datetime(1977, 8, 18, 0, 0)"
      ]
     },
     "execution_count": 21,
     "metadata": {},
     "output_type": "execute_result"
    }
   ],
   "source": [
    "#3\n",
    "datetime.strptime('Thursday, 18 August 1977', '%A, %d %B %Y')"
   ]
  },
  {
   "cell_type": "code",
   "execution_count": 50,
   "id": "14f84942-51bc-431e-8858-33909c6a971f",
   "metadata": {},
   "outputs": [],
   "source": [
    "#Задание 2.\n",
    "#Напишите функцию date_range, которая возвращает список дат за период от start_date до end_date. \n",
    "#Даты должны вводиться в формате yyyy-mm-dd. \n",
    "#В случае неверного формата или при start_date > end_date должен возвращаться пустой список.\n",
    "\n",
    "def date_range(start_date,end_date):\n",
    "    daterange = []\n",
    "    try:\n",
    "        sdate=datetime.strptime(start_date, '%Y-%m-%d')\n",
    "        edate=datetime.strptime(end_date, '%Y-%m-%d')\n",
    "    except:\n",
    "        print (daterange)\n",
    "    else:\n",
    "        while edate>=sdate:\n",
    "            daterange.append(datetime.strftime(sdate, '%Y-%m-%d'))\n",
    "            sdate += timedelta(days=1)\n",
    "        print (daterange)\n",
    "        "
   ]
  },
  {
   "cell_type": "code",
   "execution_count": 52,
   "id": "18d65fea-b360-4ea2-874d-f9645f3843da",
   "metadata": {},
   "outputs": [
    {
     "name": "stdout",
     "output_type": "stream",
     "text": [
      "['2022-01-01', '2022-01-02', '2022-01-03']\n"
     ]
    }
   ],
   "source": [
    "date_range('2022-01-01', '2022-01-03')"
   ]
  },
  {
   "cell_type": "code",
   "execution_count": 54,
   "id": "ba32902f-3672-4625-8641-4392f69dd2c8",
   "metadata": {},
   "outputs": [
    {
     "name": "stdout",
     "output_type": "stream",
     "text": [
      "[]\n"
     ]
    }
   ],
   "source": [
    "date_range('2022-01-03', '2022-01-01')"
   ]
  },
  {
   "cell_type": "code",
   "execution_count": null,
   "id": "a420b589-ff16-4df2-b3d8-2337521f80e1",
   "metadata": {},
   "outputs": [],
   "source": []
  }
 ],
 "metadata": {
  "kernelspec": {
   "display_name": "Python [conda env:base] *",
   "language": "python",
   "name": "conda-base-py"
  },
  "language_info": {
   "codemirror_mode": {
    "name": "ipython",
    "version": 3
   },
   "file_extension": ".py",
   "mimetype": "text/x-python",
   "name": "python",
   "nbconvert_exporter": "python",
   "pygments_lexer": "ipython3",
   "version": "3.12.7"
  }
 },
 "nbformat": 4,
 "nbformat_minor": 5
}
