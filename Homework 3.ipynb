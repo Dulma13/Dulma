{
 "cells": [
  {
   "cell_type": "code",
   "execution_count": 3,
   "id": "88b4f17f-25e4-4d7d-a566-cf6201082fc1",
   "metadata": {},
   "outputs": [],
   "source": [
    "# Homework 3. Task 1:\n",
    "#Дана переменная, в которой хранится словарь, содержащий геометки для каждого пользователя (пример структуры данных приведён ниже). \n",
    "#Вам нужно написать программу, которая выведет на экран множество уникальных геометок всех пользователей.\n",
    "\n",
    "#Пример работы программы:\n",
    "\n",
    "ids = {'user1': [213, 213, 213, 15, 213], \n",
    "       'user2': [54, 54, 119, 119, 119], \n",
    "       'user3': [213, 98, 98, 35]}\n"
   ]
  },
  {
   "cell_type": "code",
   "execution_count": 69,
   "id": "fff70610-bd9a-46b2-9eaa-11e028c4fd03",
   "metadata": {},
   "outputs": [
    {
     "name": "stdout",
     "output_type": "stream",
     "text": [
      "{98, 35, 213, 54, 119, 15}\n"
     ]
    }
   ],
   "source": [
    "#по описанию идеально подходит использование set, т. к. его используют для очистки дубликатов\n",
    "#сначала задаем пустое множество\n",
    "#объединяем гео, который из ids, с новым пустым множеством\n",
    "geomark_set = set()\n",
    "for geo in ids.values():\n",
    "    geomark_set = geomark_set.union(set(geo))\n",
    "print (geomark_set)  "
   ]
  },
  {
   "cell_type": "code",
   "execution_count": null,
   "id": "c5730597-5525-4a80-8e7e-df5fed92bb76",
   "metadata": {},
   "outputs": [],
   "source": [
    "#Homework 3. Task 2:\n",
    "#Дана переменная, в которой хранится список поисковых запросов пользователя (пример структуры данных приведён ниже). \n",
    "#Вам нужно написать программу, которая выведет на экран распределение количества слов в запросах в требуемом виде.\n",
    "\n",
    "#Пример работы программы:\n",
    "queries = [\n",
    "    'смотреть сериалы онлайн',\n",
    "    'новости спорта',\n",
    "    'афиша кино',\n",
    "    'курс доллара',\n",
    "    'сериалы этим летом',\n",
    "    'курс по питону',\n",
    "    'сериалы про спорт',\n",
    "    ]"
   ]
  }
 ],
 "metadata": {
  "kernelspec": {
   "display_name": "Python [conda env:base] *",
   "language": "python",
   "name": "conda-base-py"
  },
  "language_info": {
   "codemirror_mode": {
    "name": "ipython",
    "version": 3
   },
   "file_extension": ".py",
   "mimetype": "text/x-python",
   "name": "python",
   "nbconvert_exporter": "python",
   "pygments_lexer": "ipython3",
   "version": "3.12.7"
  }
 },
 "nbformat": 4,
 "nbformat_minor": 5
}
