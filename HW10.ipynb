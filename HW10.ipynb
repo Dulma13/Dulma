{
 "cells": [
  {
   "cell_type": "code",
   "execution_count": 6,
   "id": "3722d2e4-f4e6-43ff-9230-a830ab223f9b",
   "metadata": {},
   "outputs": [
    {
     "ename": "BadZipFile",
     "evalue": "File is not a zip file",
     "output_type": "error",
     "traceback": [
      "\u001b[1;31m---------------------------------------------------------------------------\u001b[0m",
      "\u001b[1;31mBadZipFile\u001b[0m                                Traceback (most recent call last)",
      "Cell \u001b[1;32mIn[6], line 30\u001b[0m\n\u001b[0;32m     24\u001b[0m \u001b[38;5;250m    \u001b[39m\u001b[38;5;124;03m\"\"\"\u001b[39;00m\n\u001b[0;32m     25\u001b[0m \u001b[38;5;124;03m    :return: pandas data frame with movies\u001b[39;00m\n\u001b[0;32m     26\u001b[0m \u001b[38;5;124;03m    \"\"\"\u001b[39;00m\n\u001b[0;32m     27\u001b[0m     \u001b[38;5;28;01mreturn\u001b[39;00m pd\u001b[38;5;241m.\u001b[39mread_csv(zip_arch\u001b[38;5;241m.\u001b[39mopen(name\u001b[38;5;241m=\u001b[39m\u001b[38;5;124m'\u001b[39m\u001b[38;5;124mpandas2/movies.csv\u001b[39m\u001b[38;5;124m'\u001b[39m))\n\u001b[1;32m---> 30\u001b[0m movies_zip \u001b[38;5;241m=\u001b[39m get_zip_files()\n\u001b[0;32m     31\u001b[0m ratings \u001b[38;5;241m=\u001b[39m get_ratings_data_frame(movies_zip)\n\u001b[0;32m     32\u001b[0m movies_info \u001b[38;5;241m=\u001b[39m get_movies_data_frame(movies_zip)\u001b[38;5;241m.\u001b[39mset_index(keys\u001b[38;5;241m=\u001b[39m\u001b[38;5;124m'\u001b[39m\u001b[38;5;124mmovieId\u001b[39m\u001b[38;5;124m'\u001b[39m, drop\u001b[38;5;241m=\u001b[39m\u001b[38;5;28;01mFalse\u001b[39;00m)\n",
      "Cell \u001b[1;32mIn[6], line 13\u001b[0m, in \u001b[0;36mget_zip_files\u001b[1;34m()\u001b[0m\n\u001b[0;32m     11\u001b[0m \u001b[38;5;28;01mdef\u001b[39;00m \u001b[38;5;21mget_zip_files\u001b[39m():\n\u001b[0;32m     12\u001b[0m     response \u001b[38;5;241m=\u001b[39m requests\u001b[38;5;241m.\u001b[39mget(\u001b[38;5;124m'\u001b[39m\u001b[38;5;124mhttps://github.com/Dulma13/Dulma/blob/main/pandas2.zip\u001b[39m\u001b[38;5;124m'\u001b[39m)\n\u001b[1;32m---> 13\u001b[0m     \u001b[38;5;28;01mreturn\u001b[39;00m ZipFile(BytesIO(response\u001b[38;5;241m.\u001b[39mcontent))\n",
      "File \u001b[1;32m~\\anaconda3\\Lib\\zipfile\\__init__.py:1349\u001b[0m, in \u001b[0;36mZipFile.__init__\u001b[1;34m(self, file, mode, compression, allowZip64, compresslevel, strict_timestamps, metadata_encoding)\u001b[0m\n\u001b[0;32m   1347\u001b[0m \u001b[38;5;28;01mtry\u001b[39;00m:\n\u001b[0;32m   1348\u001b[0m     \u001b[38;5;28;01mif\u001b[39;00m mode \u001b[38;5;241m==\u001b[39m \u001b[38;5;124m'\u001b[39m\u001b[38;5;124mr\u001b[39m\u001b[38;5;124m'\u001b[39m:\n\u001b[1;32m-> 1349\u001b[0m         \u001b[38;5;28mself\u001b[39m\u001b[38;5;241m.\u001b[39m_RealGetContents()\n\u001b[0;32m   1350\u001b[0m     \u001b[38;5;28;01melif\u001b[39;00m mode \u001b[38;5;129;01min\u001b[39;00m (\u001b[38;5;124m'\u001b[39m\u001b[38;5;124mw\u001b[39m\u001b[38;5;124m'\u001b[39m, \u001b[38;5;124m'\u001b[39m\u001b[38;5;124mx\u001b[39m\u001b[38;5;124m'\u001b[39m):\n\u001b[0;32m   1351\u001b[0m         \u001b[38;5;66;03m# set the modified flag so central directory gets written\u001b[39;00m\n\u001b[0;32m   1352\u001b[0m         \u001b[38;5;66;03m# even if no files are added to the archive\u001b[39;00m\n\u001b[0;32m   1353\u001b[0m         \u001b[38;5;28mself\u001b[39m\u001b[38;5;241m.\u001b[39m_didModify \u001b[38;5;241m=\u001b[39m \u001b[38;5;28;01mTrue\u001b[39;00m\n",
      "File \u001b[1;32m~\\anaconda3\\Lib\\zipfile\\__init__.py:1416\u001b[0m, in \u001b[0;36mZipFile._RealGetContents\u001b[1;34m(self)\u001b[0m\n\u001b[0;32m   1414\u001b[0m     \u001b[38;5;28;01mraise\u001b[39;00m BadZipFile(\u001b[38;5;124m\"\u001b[39m\u001b[38;5;124mFile is not a zip file\u001b[39m\u001b[38;5;124m\"\u001b[39m)\n\u001b[0;32m   1415\u001b[0m \u001b[38;5;28;01mif\u001b[39;00m \u001b[38;5;129;01mnot\u001b[39;00m endrec:\n\u001b[1;32m-> 1416\u001b[0m     \u001b[38;5;28;01mraise\u001b[39;00m BadZipFile(\u001b[38;5;124m\"\u001b[39m\u001b[38;5;124mFile is not a zip file\u001b[39m\u001b[38;5;124m\"\u001b[39m)\n\u001b[0;32m   1417\u001b[0m \u001b[38;5;28;01mif\u001b[39;00m \u001b[38;5;28mself\u001b[39m\u001b[38;5;241m.\u001b[39mdebug \u001b[38;5;241m>\u001b[39m \u001b[38;5;241m1\u001b[39m:\n\u001b[0;32m   1418\u001b[0m     \u001b[38;5;28mprint\u001b[39m(endrec)\n",
      "\u001b[1;31mBadZipFile\u001b[0m: File is not a zip file"
     ]
    }
   ],
   "source": [
    "''' Homework 10\n",
    "Задание 1\n",
    "Датасет для домашнего задания вы найдете в разделе “Материалы к домашнему заданию” к этому занятию.\n",
    "Определите, какому фильму было выставлено больше всего оценок 5.0\n",
    "'''\n",
    "import pandas as pd\n",
    "import requests\n",
    "from io import BytesIO\n",
    "from zipfile import ZipFile\n",
    "\n",
    "def get_zip_files():\n",
    "    response = requests.get('https://github.com/Dulma13/Dulma/blob/main/pandas2.zip')\n",
    "    return ZipFile(BytesIO(response.content))\n",
    "\n",
    "\n",
    "def get_ratings_data_frame(zip_arch):\n",
    "    \"\"\"\n",
    "    :return: pandas data frame with movies ratings\n",
    "    \"\"\"\n",
    "    return pd.read_csv(zip_arch.open(name='pandas2/ratings.csv'))\n",
    "\n",
    "\n",
    "def get_movies_data_frame(zip_arch):\n",
    "    \"\"\"\n",
    "    :return: pandas data frame with movies\n",
    "    \"\"\"\n",
    "    return pd.read_csv(zip_arch.open(name='pandas2/movies.csv'))\n",
    "\n",
    "\n",
    "movies_zip = get_zip_files()\n",
    "ratings = get_ratings_data_frame(movies_zip)\n",
    "movies_info = get_movies_data_frame(movies_zip).set_index(keys='movieId', drop=False)\n",
    "\n",
    "top_films = ratings.query('rating == {}'.format(5))\n",
    "\n",
    "best_film_id = top_films['movieId'].value_counts().idxmax()\n",
    "\n",
    "print(f'Top movie: {movies_info.loc[best_film_id, \"title\"]}')\n"
   ]
  },
  {
   "cell_type": "code",
   "execution_count": null,
   "id": "d7a141b7-6ad3-4943-a3ba-b30f2b63659b",
   "metadata": {},
   "outputs": [],
   "source": []
  }
 ],
 "metadata": {
  "kernelspec": {
   "display_name": "Python [conda env:base] *",
   "language": "python",
   "name": "conda-base-py"
  },
  "language_info": {
   "codemirror_mode": {
    "name": "ipython",
    "version": 3
   },
   "file_extension": ".py",
   "mimetype": "text/x-python",
   "name": "python",
   "nbconvert_exporter": "python",
   "pygments_lexer": "ipython3",
   "version": "3.12.7"
  }
 },
 "nbformat": 4,
 "nbformat_minor": 5
}
