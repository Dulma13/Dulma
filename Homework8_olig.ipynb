{
 "cells": [
  {
   "cell_type": "code",
   "execution_count": 8,
   "id": "aba8a96c-ade7-4aa6-9050-a74f4a517e41",
   "metadata": {},
   "outputs": [
    {
     "data": {
      "text/plain": [
       "'СДР (специальные права заимствования)'"
      ]
     },
     "execution_count": 8,
     "metadata": {},
     "output_type": "execute_result"
    }
   ],
   "source": [
    "import requests\n",
    "\n",
    "RATES_URL = 'https://www.cbr-xml-daily.ru/daily_json.js'\n",
    "\n",
    "def get_max_value(url):\n",
    "    rates = requests.get(url).json()\n",
    "    max_rate = max(\n",
    "        rates['Valute'].values(),\n",
    "    key = lambda rate: rate['Value']\n",
    "                  )\n",
    "    return max_rate.get('Name')\n",
    "get_max_value(RATES_URL)"
   ]
  },
  {
   "cell_type": "code",
   "execution_count": null,
   "id": "7e6fa010-8cf8-4c53-b9ff-223f9680a34f",
   "metadata": {},
   "outputs": [],
   "source": []
  }
 ],
 "metadata": {
  "kernelspec": {
   "display_name": "Python [conda env:base] *",
   "language": "python",
   "name": "conda-base-py"
  },
  "language_info": {
   "codemirror_mode": {
    "name": "ipython",
    "version": 3
   },
   "file_extension": ".py",
   "mimetype": "text/x-python",
   "name": "python",
   "nbconvert_exporter": "python",
   "pygments_lexer": "ipython3",
   "version": "3.12.7"
  }
 },
 "nbformat": 4,
 "nbformat_minor": 5
}
