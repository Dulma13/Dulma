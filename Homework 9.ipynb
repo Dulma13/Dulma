{
 "cells": [
  {
   "cell_type": "code",
   "execution_count": 20,
   "id": "88e664fc-f605-4074-b030-cd309d31cd0a",
   "metadata": {},
   "outputs": [
    {
     "name": "stdout",
     "output_type": "stream",
     "text": [
      "Результат: Номер А222ВС валиден. Регион: 96\n",
      "Результат: Номер не валиден\n"
     ]
    }
   ],
   "source": [
    "\n",
    "import re\n",
    "def is_valid(car_id):\n",
    "    pattern = r'([А, В, Е, К, М, Н, О, Р, С, Т, У, Х]{1})([1-9]{3})([А, В, Е, К, М, Н, О, Р, С, Т, У, Х]{2})(\\d{2}$)'\n",
    "    valid = re.findall(pattern, car_id)\n",
    "    if len(valid) > 0:\n",
    "        return f'Результат: Номер {valid[0][0]+valid[0][1]+valid[0][2]} валиден. Регион: {valid[0][-1]}' \n",
    "    else:\n",
    "        return 'Результат: Номер не валиден'\n",
    "\n",
    "car_id_1 = 'А222ВС96'\n",
    "print(is_valid(car_id_1))\n",
    "\n",
    "\n",
    "car_id_2 = 'АБ22ВВ193'\n",
    "print(is_valid(car_id_2))\n",
    "                  "
   ]
  },
  {
   "cell_type": "code",
   "execution_count": null,
   "id": "32c3c3b4-8846-4888-9f0c-79a5c0825d58",
   "metadata": {},
   "outputs": [],
   "source": []
  },
  {
   "cell_type": "code",
   "execution_count": null,
   "id": "a3ceb42c-8799-486b-91bc-47dd36018217",
   "metadata": {},
   "outputs": [],
   "source": []
  }
 ],
 "metadata": {
  "kernelspec": {
   "display_name": "Python [conda env:base] *",
   "language": "python",
   "name": "conda-base-py"
  },
  "language_info": {
   "codemirror_mode": {
    "name": "ipython",
    "version": 3
   },
   "file_extension": ".py",
   "mimetype": "text/x-python",
   "name": "python",
   "nbconvert_exporter": "python",
   "pygments_lexer": "ipython3",
   "version": "3.12.7"
  }
 },
 "nbformat": 4,
 "nbformat_minor": 5
}
